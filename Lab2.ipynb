{
 "cells": [
  {
   "cell_type": "markdown",
   "metadata": {},
   "source": [
    "# Lab 2"
   ]
  },
  {
   "cell_type": "markdown",
   "metadata": {},
   "source": [
    "Sierra Wilde"
   ]
  },
  {
   "cell_type": "markdown",
   "metadata": {},
   "source": [
    "## Problem 1"
   ]
  },
  {
   "cell_type": "markdown",
   "metadata": {},
   "source": [
    "I have chosen the average number of background, cosmic ray counts to be X = 0.75, and the average number of gamma rays emitted to be Y = 1.0."
   ]
  },
  {
   "cell_type": "code",
   "execution_count": 2,
   "metadata": {},
   "outputs": [],
   "source": [
    "import numpy as np\n",
    "import scipy as sp\n",
    "import matplotlib.pyplot as plt\n",
    "from scipy import stats"
   ]
  },
  {
   "cell_type": "markdown",
   "metadata": {},
   "source": [
    "### A."
   ]
  },
  {
   "cell_type": "markdown",
   "metadata": {},
   "source": [
    "Convolving the background Poisson distribution multiple times in order to average the background over multiple days."
   ]
  },
  {
   "cell_type": "code",
   "execution_count": 17,
   "metadata": {},
   "outputs": [
    {
     "name": "stdout",
     "output_type": "stream",
     "text": [
      "11\n",
      "21\n",
      "31\n"
     ]
    }
   ],
   "source": [
    "pmf1 = stats.poisson.pmf(k, 0.75)\n",
    "print(len(pmf1))\n",
    "pmf2 = np.convolve(pmf1, pmf1)\n",
    "print(len(pmf2))\n",
    "pmf3 = np.convolve(pmf1, pmf2)\n",
    "print(len(pmf3))"
   ]
  },
  {
   "cell_type": "code",
   "execution_count": 25,
   "metadata": {},
   "outputs": [
    {
     "name": "stdout",
     "output_type": "stream",
     "text": [
      "21\n",
      "11\n",
      "41\n",
      "11\n",
      "61\n",
      "11\n",
      "81\n",
      "11\n"
     ]
    }
   ],
   "source": [
    "days = [2, 4, 6, 8]\n",
    "k = np.arange(0, 11)\n",
    "for d in days:\n",
    "    #making convolutions according to the number of days over which the Poisson distribution is averaged\n",
    "    avg = (d*k)/len(k)**d-d\n",
    "    for i in range(0, d-1):\n",
    "        if i==0:\n",
    "            new_pmf = stats.poisson.pmf(k, 0.75)\n",
    "            #print(len(new_pmf))\n",
    "        new_pmf = np.convolve(stats.poisson.pmf(k, 0.75), new_pmf)\n",
    "        #print(len(new_pmf))\n",
    "    avg_pmf = new_pmf\n",
    "    print(len(avg_pmf))\n",
    "    print(len(avg))\n",
    "    #plotting the background convolutions\n",
    "#     fig, axes = plt.subplots(1, 2, figsize=(12, 5))\n",
    "#     for ax in axes:\n",
    "#         ax.bar(avg, avg_pmf, label='average number of days')\n",
    "    plt.show()"
   ]
  },
  {
   "cell_type": "code",
   "execution_count": 27,
   "metadata": {},
   "outputs": [
    {
     "name": "stdout",
     "output_type": "stream",
     "text": [
      "11\n",
      "81\n"
     ]
    }
   ],
   "source": [
    "print(len(avg))\n",
    "print(len(avg_pmf))"
   ]
  },
  {
   "cell_type": "code",
   "execution_count": 26,
   "metadata": {},
   "outputs": [
    {
     "name": "stdout",
     "output_type": "stream",
     "text": [
      "[-8.         -7.99999996 -7.99999993 -7.99999989 -7.99999985 -7.99999981\n",
      " -7.99999978 -7.99999974 -7.9999997  -7.99999966 -7.99999963]\n"
     ]
    }
   ],
   "source": [
    "print(avg)"
   ]
  },
  {
   "cell_type": "code",
   "execution_count": 28,
   "metadata": {},
   "outputs": [
    {
     "data": {
      "text/plain": [
       "array([0.        , 0.01652893, 0.03305785, 0.04958678, 0.0661157 ,\n",
       "       0.08264463, 0.09917355, 0.11570248, 0.1322314 , 0.14876033,\n",
       "       0.16528926])"
      ]
     },
     "execution_count": 28,
     "metadata": {},
     "output_type": "execute_result"
    }
   ],
   "source": [
    "((2*k)/(11**2))"
   ]
  },
  {
   "cell_type": "code",
   "execution_count": null,
   "metadata": {},
   "outputs": [],
   "source": []
  }
 ],
 "metadata": {
  "kernelspec": {
   "display_name": "Python 3",
   "language": "python",
   "name": "python3"
  },
  "language_info": {
   "codemirror_mode": {
    "name": "ipython",
    "version": 3
   },
   "file_extension": ".py",
   "mimetype": "text/x-python",
   "name": "python",
   "nbconvert_exporter": "python",
   "pygments_lexer": "ipython3",
   "version": "3.7.2"
  }
 },
 "nbformat": 4,
 "nbformat_minor": 2
}
