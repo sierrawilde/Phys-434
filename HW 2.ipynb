{
 "cells": [
  {
   "cell_type": "code",
   "execution_count": 36,
   "metadata": {},
   "outputs": [],
   "source": [
    "import numpy as np\n",
    "import matplotlib.pyplot as plt\n",
    "from scipy import stats"
   ]
  },
  {
   "cell_type": "markdown",
   "metadata": {},
   "source": [
    "## 1."
   ]
  },
  {
   "cell_type": "markdown",
   "metadata": {},
   "source": [
    "The probability of rolling snake eyes is less than that of rolling sevens."
   ]
  },
  {
   "cell_type": "markdown",
   "metadata": {},
   "source": [
    "Probability of rolling snake eyes:"
   ]
  },
  {
   "cell_type": "markdown",
   "metadata": {},
   "source": [
    "$P(v) = \\prod_{i}^{N} P_i(v)$"
   ]
  },
  {
   "cell_type": "markdown",
   "metadata": {},
   "source": [
    "where v = 1, and N = 2."
   ]
  },
  {
   "cell_type": "markdown",
   "metadata": {},
   "source": [
    "$P(1) = \\frac{1}{36}$"
   ]
  },
  {
   "cell_type": "markdown",
   "metadata": {},
   "source": [
    "Probability of rolling sevens:"
   ]
  },
  {
   "cell_type": "markdown",
   "metadata": {},
   "source": [
    "$P_{A+B}(x) = \\sum_{z} P_A(z)P_B(x-z)$"
   ]
  },
  {
   "cell_type": "markdown",
   "metadata": {},
   "source": [
    "where x = 7, and z = 6."
   ]
  },
  {
   "cell_type": "markdown",
   "metadata": {},
   "source": [
    "$P_{A+B}(7) = \\frac{6}{36} = \\frac{1}{6}$"
   ]
  },
  {
   "cell_type": "code",
   "execution_count": 2,
   "metadata": {},
   "outputs": [
    {
     "name": "stdout",
     "output_type": "stream",
     "text": [
      "216\n"
     ]
    }
   ],
   "source": [
    "_P = 36 * 6\n",
    "print(_P)"
   ]
  },
  {
   "cell_type": "markdown",
   "metadata": {},
   "source": [
    "The ratio: $\\frac{P(1)}{P_{A+B}(7)} = \\frac{1}{216}$"
   ]
  },
  {
   "cell_type": "markdown",
   "metadata": {},
   "source": [
    "## 2."
   ]
  },
  {
   "cell_type": "markdown",
   "metadata": {},
   "source": [
    "Finding the probabilities analytically:"
   ]
  },
  {
   "cell_type": "markdown",
   "metadata": {},
   "source": [
    "<table>\n",
    "    \\begin{array}{|c|c|}\n",
    "        \\hline\n",
    "        \\textbf{Sum} & \\textbf{Options}\\\\\n",
    "        \\hline\n",
    "        2 & 1 1\\\\\n",
    "        3 & 1 2, 2 1\\\\\n",
    "        4 & 1 3, 2 2, 3 1\\\\\n",
    "        5 & 1 4, 2 3, 3 2, 4 1\\\\\n",
    "        6 & 1 5, 2 4, 3 3, 4 2, 5 1\\\\\n",
    "        7 & 1 6, 2 5, 3 4, 4 3, 5 2, 6 1\\\\\n",
    "        8 & 2 6, 3 5, 4 4, 5 3, 6 2\\\\\n",
    "        9 & 3 6, 4 5, 5 4, 6 3\\\\\n",
    "        10 & 4 6, 5 5, 6 4\\\\\n",
    "        11 & 5 6, 6 5\\\\\n",
    "        12 & 6 6\\\\\n",
    "        \\hline\n",
    "    \\end{array}\n",
    "</table>"
   ]
  },
  {
   "cell_type": "markdown",
   "metadata": {},
   "source": [
    "<table>\n",
    "    \\begin{array}{|c|c|}\n",
    "        \\hline\n",
    "        \\textbf{Sum} & \\textbf{Probability}\\\\\n",
    "        \\hline\n",
    "        2 & \\frac{1}{36}\\\\\n",
    "        3 & \\frac{2}{36}\\\\\n",
    "        4 & \\frac{3}{36}\\\\\n",
    "        5 & \\frac{4}{36}\\\\\n",
    "        6 & \\frac{5}{36}\\\\\n",
    "        7 & \\frac{6}{36}\\\\\n",
    "        8 & \\frac{5}{36}\\\\\n",
    "        9 & \\frac{4}{36}\\\\\n",
    "        10 & \\frac{3}{36}\\\\\n",
    "        11 & \\frac{2}{36}\\\\\n",
    "        12 & \\frac{1}{36}\\\\\n",
    "        \\hline\n",
    "    \\end{array}\n",
    "<table>"
   ]
  },
  {
   "cell_type": "markdown",
   "metadata": {},
   "source": [
    "Finding probabilities numerically:"
   ]
  },
  {
   "cell_type": "code",
   "execution_count": 37,
   "metadata": {},
   "outputs": [],
   "source": [
    "pdf = [1/6, 1/6, 1/6, 1/6, 1/6, 1/6]"
   ]
  },
  {
   "cell_type": "code",
   "execution_count": 38,
   "metadata": {},
   "outputs": [
    {
     "name": "stdout",
     "output_type": "stream",
     "text": [
      "[0.02777778 0.05555556 0.08333333 0.11111111 0.13888889 0.16666667\n",
      " 0.13888889 0.11111111 0.08333333 0.05555556 0.02777778]\n"
     ]
    }
   ],
   "source": [
    "pdf_sum = np.convolve(pdf, pdf, mode='full')\n",
    "print(pdf_sum)"
   ]
  },
  {
   "cell_type": "code",
   "execution_count": 5,
   "metadata": {},
   "outputs": [
    {
     "data": {
      "image/png": "[encoded data removed]",
      "text/plain": [
       "<Figure size 432x288 with 1 Axes>"
      ]
     },
     "metadata": {
      "needs_background": "light"
     },
     "output_type": "display_data"
    }
   ],
   "source": [
    "plt.figure()\n",
    "x = np.arange(2, 13, 1)\n",
    "plt.bar(x, pdf_sum, width=1)\n",
    "plt.xticks(x)\n",
    "plt.xlabel('Sum of rolled dice')\n",
    "plt.ylabel('Probability')\n",
    "plt.show()"
   ]
  },
  {
   "cell_type": "code",
   "execution_count": 40,
   "metadata": {},
   "outputs": [
    {
     "name": "stdout",
     "output_type": "stream",
     "text": [
      "The probability of rolling a sum of 2 is 0.027777777777777776\n",
      "The probability of rolling a sum of 3 is 0.05555555555555555\n",
      "The probability of rolling a sum of 4 is 0.08333333333333333\n",
      "The probability of rolling a sum of 5 is 0.1111111111111111\n",
      "The probability of rolling a sum of 6 is 0.1388888888888889\n",
      "The probability of rolling a sum of 7 is 0.16666666666666669\n",
      "The probability of rolling a sum of 8 is 0.1388888888888889\n",
      "The probability of rolling a sum of 9 is 0.1111111111111111\n",
      "The probability of rolling a sum of 10 is 0.08333333333333333\n",
      "The probability of rolling a sum of 11 is 0.05555555555555555\n",
      "The probability of rolling a sum of 12 is 0.027777777777777776\n"
     ]
    }
   ],
   "source": [
    "for each, prob in zip(x, pdf_sum):\n",
    "    print('The probability of rolling a sum of {} is {}'.format(each, prob))"
   ]
  },
  {
   "cell_type": "markdown",
   "metadata": {},
   "source": [
    "## 3."
   ]
  },
  {
   "cell_type": "markdown",
   "metadata": {},
   "source": [
    "Formula for mean: $\\sum_i x_iP_i$, assuming that the total probabiltiy is 1."
   ]
  },
  {
   "cell_type": "code",
   "execution_count": 6,
   "metadata": {},
   "outputs": [
    {
     "name": "stdout",
     "output_type": "stream",
     "text": [
      "The mean of the convolution distribution: 7.0\n"
     ]
    }
   ],
   "source": [
    "mean = sum(x * pdf_sum) #/ sum(pdf_sum)\n",
    "print('The mean of the convolution distribution: ' + str(mean))"
   ]
  },
  {
   "cell_type": "markdown",
   "metadata": {},
   "source": [
    "Formula for variance: $\\sum_i(x_i-mean)^2P_i$"
   ]
  },
  {
   "cell_type": "code",
   "execution_count": 7,
   "metadata": {},
   "outputs": [
    {
     "name": "stdout",
     "output_type": "stream",
     "text": [
      "The variance of the convolution distribution: 5.833333333333334\n"
     ]
    }
   ],
   "source": [
    "var = sum((x - mean)**2 * pdf_sum)\n",
    "print('The variance of the convolution distribution: ' + str(var))"
   ]
  },
  {
   "cell_type": "markdown",
   "metadata": {},
   "source": [
    "## 4. "
   ]
  },
  {
   "cell_type": "markdown",
   "metadata": {},
   "source": [
    "Convolving the pdf of the dice 9 times to get an average of throwing 10 dice:"
   ]
  },
  {
   "cell_type": "code",
   "execution_count": 8,
   "metadata": {},
   "outputs": [],
   "source": [
    "def multi_dice_pdf(number_conv):\n",
    "    for i in range(0, number_conv):\n",
    "        if i == 0:\n",
    "            new_pdf = pdf\n",
    "        else:\n",
    "            new_pdf = convolved_pdf\n",
    "        convolved_pdf = np.convolve(pdf, new_pdf)\n",
    "    return convolved_pdf"
   ]
  },
  {
   "cell_type": "code",
   "execution_count": 47,
   "metadata": {},
   "outputs": [
    {
     "data": {
      "image/png": "[encoded data removed]",
      "text/plain": [
       "<Figure size 864x360 with 2 Axes>"
      ]
     },
     "metadata": {
      "needs_background": "light"
     },
     "output_type": "display_data"
    }
   ],
   "source": [
    "n = 10\n",
    "averages = np.arange(n, 6*n+1)/n\n",
    "fig, ax = plt.subplots(1, 2, figsize=(12, 5))\n",
    "ax[0].set_title('Probability of the average of rolling 10 dice')\n",
    "ax[0].bar(averages, multi_dice_pdf(9), width=.1)\n",
    "ax[0].set_xlabel('Average value')\n",
    "ax[0].set_ylabel('Probability')\n",
    "ax[1].bar(averages, multi_dice_pdf(9), width=.1)\n",
    "ax[1].set_ylabel('Probability (log)')\n",
    "ax[1].set_xlabel('Average value')\n",
    "ax[1].set_yscale('log')\n",
    "plt.show()"
   ]
  },
  {
   "cell_type": "markdown",
   "metadata": {},
   "source": [
    "The result from the many convolutions of the uniform distribution has approached a Gaussian distribution. This can be seen from the bell-like shape of the new distribution. It is more apparent looking at the logarthmic plot. Since the probability denisity function of a Gaussian distribution is given by $\\frac{1}{\\sigma\\sqrt{2\\pi}}e^{-\\frac{(x-\\mu)^2}{2\\sigma^2}}$, the log is an upside down parabolic function, $\\frac{-(x-\\mu)^2}{2\\sigma^2} + C$. The logarthmic plot does indeed appear to be parabolic."
   ]
  },
  {
   "cell_type": "markdown",
   "metadata": {},
   "source": [
    "## 5."
   ]
  },
  {
   "cell_type": "markdown",
   "metadata": {},
   "source": [
    "The Fourier transform of the convolution of two functions equals the product of the Fourier transforms of each individual function as given by: $\\mathscr{F}(g(x)^*h(x)) = \\mathscr{F}(g(x))\\mathscr{F}(h(x))$. If $g(x)$ and $h(x)$ are Gaussian, then the Fourier transforms also become Gaussians:"
   ]
  },
  {
   "cell_type": "markdown",
   "metadata": {},
   "source": [
    "$g(x)=\\frac{1}{\\sigma_g\\sqrt{2\\pi}}e^{-\\frac{(x-\\mu_g)^2}{2\\sigma_g^2}}$     $h(x)=\\frac{1}{\\sigma_h\\sqrt{2\\pi}}e^{-\\frac{(x-\\mu_h)^2}{2\\sigma_h^2}}$"
   ]
  },
  {
   "cell_type": "markdown",
   "metadata": {},
   "source": [
    "$\\mathscr{F}(g(x)) = e^{-2\\pi ik\\mu_g}e^{-2\\pi^2\\sigma_g^2k^2}$, and a similar form arises for $h(x)$."
   ]
  },
  {
   "cell_type": "markdown",
   "metadata": {},
   "source": [
    "Thus $\\mathscr{F}(g(x))\\mathscr{F}(h(x)) = e^{-2\\pi ik(\\mu_g+\\mu_h)}e^{-2\\pi^2(\\sigma_g^2+\\sigma_h^2)k^2}$"
   ]
  },
  {
   "cell_type": "markdown",
   "metadata": {},
   "source": [
    "Taking the inverse Fourier transform of this product results in a new Gaussian distribution with a mean of $\\mu_g+\\mu_h$ and a standard deviation of $\\sqrt{\\sigma_g^2+\\sigma_h^2}$:"
   ]
  },
  {
   "cell_type": "markdown",
   "metadata": {},
   "source": [
    "$\\mathscr{F}^{-1}[\\mathscr{F}(g(x))\\mathscr{F}(h(x))] = \\frac{1}{\\sqrt{2\\pi(\\sigma_g^2+\\sigma_h^2)}}e^{-\\frac{(x-(\\mu_g+\\mu_h))^2}{2(\\sigma_g^2+\\sigma_h^2)}}$"
   ]
  },
  {
   "cell_type": "markdown",
   "metadata": {},
   "source": [
    "The standard deviation of an averaged Gaussian decreases. When integrating a signal over time, it is easier to determine the signal from the background, because the spread of a Gaussian background distribution will decrease as more time goes on."
   ]
  },
  {
   "cell_type": "code",
   "execution_count": null,
   "metadata": {},
   "outputs": [],
   "source": []
  }
 ],
 "metadata": {
  "kernelspec": {
   "display_name": "Python 3",
   "language": "python",
   "name": "python3"
  },
  "language_info": {
   "codemirror_mode": {
    "name": "ipython",
    "version": 3
   },
   "file_extension": ".py",
   "mimetype": "text/x-python",
   "name": "python",
   "nbconvert_exporter": "python",
   "pygments_lexer": "ipython3",
   "version": "3.7.2"
  }
 },
 "nbformat": 4,
 "nbformat_minor": 2
}
