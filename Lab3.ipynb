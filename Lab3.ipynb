{
 "cells": [
  {
   "cell_type": "markdown",
   "metadata": {},
   "source": [
    "# Lab 3"
   ]
  },
  {
   "cell_type": "markdown",
   "metadata": {},
   "source": [
    "Sierra Wilde and Michael Higgins"
   ]
  },
  {
   "cell_type": "code",
   "execution_count": 2,
   "metadata": {},
   "outputs": [],
   "source": [
    "import numpy as np\n",
    "import matplotlib.pyplot as plt\n",
    "from scipy import stats\n",
    "import pandas as pd"
   ]
  },
  {
   "cell_type": "markdown",
   "metadata": {},
   "source": [
    "## Problem 1"
   ]
  },
  {
   "cell_type": "markdown",
   "metadata": {},
   "source": [
    "### A."
   ]
  },
  {
   "cell_type": "markdown",
   "metadata": {},
   "source": [
    "In order to help identify where the temperature reading deviates significantly from the 12K associated with the experiment, 100,000 data points are simulated with a Gaussian distribution with a mean of 12 and a standard deviation of 0.4. A Gaussian distribution is described by: $P(x) = \\frac{1}{\\sqrt{2\\pi\\sigma^2}}e^{\\frac{(x-\\mu)^2}{2\\sigma^2}}$, where $\\mu$ is the mean and $\\sigma$ is the standard deviation. After the good data is generated, data that is known to be bad, or not at the near constant temperature, is added."
   ]
  },
  {
   "cell_type": "code",
   "execution_count": 3,
   "metadata": {},
   "outputs": [],
   "source": [
    "#creating simulations of good temperature readouts\n",
    "good_data = stats.norm.rvs(loc=12, scale=0.4, size=100000)\n",
    "\n",
    "#list of the bad data temperatures\n",
    "bad_data = [10., 10.3, 2.1, 0., 0., 15.6, 22.3, 12.7]"
   ]
  },
  {
   "cell_type": "markdown",
   "metadata": {},
   "source": [
    "### 1."
   ]
  },
  {
   "cell_type": "code",
   "execution_count": 4,
   "metadata": {},
   "outputs": [
    {
     "data": {
      "image/png": "[encoded data removed]",
      "text/plain": [
       "<Figure size 864x360 with 2 Axes>"
      ]
     },
     "metadata": {
      "needs_background": "light"
     },
     "output_type": "display_data"
    }
   ],
   "source": [
    "#adding the bad data to the good data\n",
    "all_data = np.append(good_data, bad_data)\n",
    "#creating a true gaussian pdf\n",
    "x = np.linspace(good_data.min(), good_data.max(), 100000)\n",
    "perfect_pdf = stats.norm.pdf(x, loc=12, scale=0.4)\n",
    "\n",
    "#plotting the temperature distribution of the good and bad data, and comparing it to the true gaussian\n",
    "fig, ax = plt.subplots(1, 2, figsize=(12, 5))\n",
    "ax[0].set_title('Distribution of temperature')\n",
    "ax[0].set_xlabel('Temperature (K)')\n",
    "ax[0].set_ylabel('Counts (Normalized)')\n",
    "ax[0].hist(all_data, bins=100, density=True, label='Simulated data')\n",
    "ax[0].plot(x, perfect_pdf, label='True Gaussian pdf')\n",
    "ax[1].set_title('Distribution of temperature on a logarithmic scale')\n",
    "ax[1].set_xlabel('Temperature (K)')\n",
    "ax[1].set_ylabel('Counts (Normalized)')\n",
    "ax[1].hist(all_data, bins=100, density=True, label='Simulated data')\n",
    "ax[1].plot(x, perfect_pdf, label='True Gaussian pdf')\n",
    "ax[1].set_yscale('log')\n",
    "ax[0].legend()\n",
    "ax[1].legend()\n",
    "\n",
    "plt.show()"
   ]
  },
  {
   "cell_type": "markdown",
   "metadata": {},
   "source": [
    "The simulated plots do indeed appear to follow a Gaussian distribution. The regular distribution plot has the characteristic bell-shaped curve, and the logarithmic plot looks parabolic aside from a few outliers that are known to be the bad data. Additionally, both plots fit nicely to a perfect Gaussian probability distribution with the same parameters as the simulation."
   ]
  },
  {
   "cell_type": "markdown",
   "metadata": {},
   "source": [
    "### 2."
   ]
  },
  {
   "cell_type": "markdown",
   "metadata": {},
   "source": [
    "Since the goal of this study is to determine which events are errors, and can not be identified with the constant 12K temperature, the values that do not follow the background Gaussian distribution need to be identified and then eliminated. The question that will help determine this is as follows:\n",
    "What data points in the temperature distribution, which has a background Gaussian distribution with a mean of 12K and a standard deviation of 0.4K, are significant enough to be considered outside of the background?"
   ]
  },
  {
   "cell_type": "markdown",
   "metadata": {},
   "source": [
    "### 3."
   ]
  },
  {
   "cell_type": "markdown",
   "metadata": {},
   "source": [
    "In this case we have a double-ended test. Both tails of the Gaussian must be considered in the statistical test instead of only one tail, because large temperature deviations can occur both above and below the mean. In order to find the probability associated with measuring a value of equal or lesser/greater value, the probabilifty distribution function is integrated over a certain integral. Below is the probability over the intervals from the significant value, $\\chi$ to $\\infty$ and from $-\\infty$ to $-\\chi$. $\\chi$ will depend on the probability needed to determine whether data is significant. Any values outside $-\\chi$ and $\\chi$ will be considered not part of the background and removed from the rest of the dataset."
   ]
  },
  {
   "cell_type": "markdown",
   "metadata": {},
   "source": [
    "$\\int_{-\\infty}^{-\\chi}\\frac{1}{\\sqrt{2\\pi\\sigma^2}}e^{\\frac{(x-\\mu)^2}{2\\sigma^2}}dx = \\frac{1}{2}-\\frac{1}{2}\\mathrm{erf}(\\frac{\\chi-\\mu}{\\sqrt{2}\\sigma})$"
   ]
  },
  {
   "cell_type": "markdown",
   "metadata": {},
   "source": [
    "$\\int_{\\chi}^{\\infty}\\frac{1}{\\sqrt{2\\pi\\sigma^2}}e^{\\frac{(x-\\mu)^2}{2\\sigma^2}}dx = \\frac{1}{2}-\\frac{1}{2}\\mathrm{erf}(\\frac{\\chi-\\mu}{\\sqrt{2}\\sigma})$"
   ]
  },
  {
   "cell_type": "markdown",
   "metadata": {},
   "source": [
    "$\\mu$ is the mean temperature 12K, and $\\sigma$ is the standard deviation 0.4K."
   ]
  },
  {
   "cell_type": "markdown",
   "metadata": {},
   "source": [
    "### 4."
   ]
  },
  {
   "cell_type": "markdown",
   "metadata": {},
   "source": [
    "In order to solve for $\\chi$, the relation above must be set equal to the probability of $X{\\sigma}$ of a standard Gaussian distribution, with a mean of 0 and a standard deviation of 1:"
   ]
  },
  {
   "cell_type": "markdown",
   "metadata": {},
   "source": [
    "$P(\\pm X\\sigma) = 1-\\mathrm{erf}(\\frac{X\\sigma}{\\sqrt{2}})$"
   ]
  },
  {
   "cell_type": "markdown",
   "metadata": {},
   "source": [
    "$1-\\mathrm{erf}(\\frac{\\chi-\\mu}{\\sqrt{2}\\sigma}) = 1-\\mathrm{erf}(\\frac{X\\sigma}{\\sqrt{2}})$"
   ]
  },
  {
   "cell_type": "markdown",
   "metadata": {},
   "source": [
    "$\\frac{\\chi-\\mu}{\\sigma} = X\\sigma$"
   ]
  },
  {
   "cell_type": "markdown",
   "metadata": {},
   "source": [
    "Because values at both tails should be considered when determining significance, $\\chi = X\\sigma\\cdot\\sigma\\pm\\mu$"
   ]
  },
  {
   "cell_type": "markdown",
   "metadata": {},
   "source": [
    "Values outside the range of $-\\chi$ to $\\chi$ can be considered statistically significant. After plugging in the known values of $\\sigma$ and $\\mu$: $\\chi = 0.4X\\sigma\\pm12$."
   ]
  },
  {
   "cell_type": "markdown",
   "metadata": {},
   "source": [
    "Choosing $X\\sigma = 5$, this means that $\\chi = 10, 14$. Any temperature that is higher or lower than this range can be discarded as faulty."
   ]
  },
  {
   "cell_type": "code",
   "execution_count": 5,
   "metadata": {},
   "outputs": [],
   "source": [
    "#creating masks to sort out the numbers of data that have been kept and discarded\n",
    "good_kept = len(good_data[np.where((np.asarray(good_data) < 14) & (np.asarray(good_data) > 10))])\n",
    "good_discard = len(good_data) - good_kept\n",
    "bad_data_arr = np.asarray(bad_data)\n",
    "bad_kept = len(bad_data_arr[np.where((bad_data_arr < 14) & (bad_data_arr > 10))])\n",
    "bad_discard = len(bad_data) - bad_kept\n",
    "truth_table = pd.DataFrame(np.array([[good_kept, bad_kept], [good_discard, bad_discard]]), index=['Kept', 'Discarded'], columns=['Good data', 'Bad data'])"
   ]
  },
  {
   "cell_type": "code",
   "execution_count": 6,
   "metadata": {},
   "outputs": [
    {
     "data": {
      "text/html": [
       "<div>\n",
       "<style scoped>\n",
       "    .dataframe tbody tr th:only-of-type {\n",
       "        vertical-align: middle;\n",
       "    }\n",
       "\n",
       "    .dataframe tbody tr th {\n",
       "        vertical-align: top;\n",
       "    }\n",
       "\n",
       "    .dataframe thead th {\n",
       "        text-align: right;\n",
       "    }\n",
       "</style>\n",
       "<table border=\"1\" class=\"dataframe\">\n",
       "  <thead>\n",
       "    <tr style=\"text-align: right;\">\n",
       "      <th></th>\n",
       "      <th>Good data</th>\n",
       "      <th>Bad data</th>\n",
       "    </tr>\n",
       "  </thead>\n",
       "  <tbody>\n",
       "    <tr>\n",
       "      <th>Kept</th>\n",
       "      <td>100000</td>\n",
       "      <td>2</td>\n",
       "    </tr>\n",
       "    <tr>\n",
       "      <th>Discarded</th>\n",
       "      <td>0</td>\n",
       "      <td>6</td>\n",
       "    </tr>\n",
       "  </tbody>\n",
       "</table>\n",
       "</div>"
      ],
      "text/plain": [
       "           Good data  Bad data\n",
       "Kept          100000         2\n",
       "Discarded          0         6"
      ]
     },
     "execution_count": 6,
     "metadata": {},
     "output_type": "execute_result"
    }
   ],
   "source": [
    "truth_table"
   ]
  },
  {
   "cell_type": "markdown",
   "metadata": {},
   "source": [
    "This is the truth value table associated with a 5$\\sigma$ significance. The first row is the number of data values determined not to be significant, and the second row is the number of data values determined to be significant. All of the good data was determined not to be significant, along with one fourth of the bad data."
   ]
  },
  {
   "cell_type": "markdown",
   "metadata": {},
   "source": [
    "### B."
   ]
  },
  {
   "cell_type": "markdown",
   "metadata": {},
   "source": [
    "The smaller the chosen $X\\sigma$ is for the statistical threshold, the larger the proportion of good data is rejected. The percentage of data within 1, 2, and 3 standard deviations follows 68%, 95%, and 99.7% respectively for a Gaussian distribution. Increasing the threshold will follow this pattern where if $X\\sigma = 1, 2, 3$ the percent of good data omited would be 32%, 5% and 0.3% respectively (this relation would be different if the distribution were not Gaussian). Therefore, the statistical threshold chosen holds predictive capabilities for the amount of data omitted."
   ]
  },
  {
   "cell_type": "markdown",
   "metadata": {},
   "source": [
    "### C."
   ]
  },
  {
   "cell_type": "markdown",
   "metadata": {},
   "source": [
    "There are mistakes in the commision. As seen in the truth table in A.4., a quarter of the bad data has not been rejected at a 5$\\sigma$ value. These mistakes are avoidable, however more and more good data gets omitted as one tries to omit all of the bad data, because the statistical threshold must decrease. The only way to rle out any mistakes would be to have a threshold of 0$\\sigma$, which then omits essentially all of the good data as well."
   ]
  },
  {
   "cell_type": "markdown",
   "metadata": {},
   "source": [
    "## Problem 2"
   ]
  },
  {
   "cell_type": "markdown",
   "metadata": {},
   "source": [
    "In order to determine whether or not there is an asteroid in the image, the movement of a data point must be statistically significant. The total distance would be defined as $r = \\sqrt{\\Delta x^2+\\Delta y^2}$, this distance must be of a great enough value in order to be considered an asteroid. Given that the background of the movement is described as a 2 dimensional, rotationaly symmetric Gaussian distribution with a mean of 0 and a standard deviation of 1 arcsecond, what amount of movement would be considered statistically significant?"
   ]
  },
  {
   "cell_type": "markdown",
   "metadata": {},
   "source": [
    "Since the background distribution is rotationally symmetric, the signficance of r will be the same as the significance of $\\Delta x$ when $\\Delta y$  is zero and vice versa, at any threshold. Therefore, only the significance of either $\\Delta x$ or $\\Delta y$ needs to be calculated. "
   ]
  },
  {
   "cell_type": "markdown",
   "metadata": {},
   "source": [
    "Similar to the steps in Problem 1 A.4., the background probability distribution function is set equal to that of a standard Gaussian with a mean of 0 and standard deviation of 1. $\\rho$ would be the minimum value of $\\sqrt{\\Delta x^2+\\Delta y^2}$ in order to be statistically significant."
   ]
  },
  {
   "cell_type": "markdown",
   "metadata": {},
   "source": [
    "$\\int_{-\\infty}^{-\\rho}\\frac{1}{\\sqrt{2\\pi\\sigma^2}}e^{\\frac{(\\Delta x-\\mu)^2}{2\\sigma^2}}d\\Delta x = \\frac{1}{2}-\\frac{1}{2}\\mathrm{erf}(\\frac{\\rho-\\mu}{\\sqrt{2}\\sigma})$"
   ]
  },
  {
   "cell_type": "markdown",
   "metadata": {},
   "source": [
    "$\\int_{\\rho}^{\\infty}\\frac{1}{\\sqrt{2\\pi\\sigma^2}}e^{\\frac{(\\Delta x-\\mu)^2}{2\\sigma^2}}d\\Delta x = \\frac{1}{2}-\\frac{1}{2}\\mathrm{erf}(\\frac{\\rho-\\mu}{\\sqrt{2}\\sigma})$"
   ]
  },
  {
   "cell_type": "markdown",
   "metadata": {},
   "source": [
    "$P(\\pm X\\sigma) = 1-\\mathrm{erf}(\\frac{X\\sigma}{\\sqrt{2}})$"
   ]
  },
  {
   "cell_type": "markdown",
   "metadata": {},
   "source": [
    "$1-\\mathrm{erf}(\\frac{\\rho-\\mu}{\\sqrt{2}\\sigma}) = 1-\\mathrm{erf}(\\frac{X\\sigma}{\\sqrt{2}})$"
   ]
  },
  {
   "cell_type": "markdown",
   "metadata": {},
   "source": [
    "$\\rho = X\\sigma \\cdot \\sigma \\pm \\mu$"
   ]
  },
  {
   "cell_type": "markdown",
   "metadata": {},
   "source": [
    "Since $\\sigma = 1$ and $\\mu = 0$, $\\rho = 5$ with a significance threshold $X\\sigma = 5$."
   ]
  },
  {
   "cell_type": "markdown",
   "metadata": {},
   "source": [
    "## Problem 3"
   ]
  },
  {
   "cell_type": "markdown",
   "metadata": {},
   "source": [
    "The moon should effectively block cosmic rays from its portion of the sky. If a patch of sky following the moon gets 6800 cosmic rays over 8 hours every day for 15 days, or 7200 minutes, and the background is a Poisson distribution with an expected parameter 1 cosmic ray per minute, what is the statistical significance of measurement of 6800 counts?"
   ]
  },
  {
   "cell_type": "markdown",
   "metadata": {},
   "source": [
    "The expected background is a Poisson distibution with a mean of 1 cosmic ray per minute. Since the measurement period is over an interval of 7200 minutes, the Poisson distribution must be multiplied by 7200. This gives a background mean of 7200 counts over the measurement time period."
   ]
  },
  {
   "cell_type": "code",
   "execution_count": 7,
   "metadata": {},
   "outputs": [
    {
     "data": {
      "image/png": "[encoded data removed]",
      "text/plain": [
       "<Figure size 1080x360 with 2 Axes>"
      ]
     },
     "metadata": {
      "needs_background": "light"
     },
     "output_type": "display_data"
    }
   ],
   "source": [
    "#plotting the background distribution of cosmic ray counts\n",
    "k = np.arange(0, 31)\n",
    "old_poisson_pmf = stats.poisson.pmf(k, 1)\n",
    "trials_poisson_pmf = 7200*old_poisson_pmf\n",
    "fig, ax = plt.subplots(1, 2, figsize=(15, 5))\n",
    "ax[0].set_title('Background probability distribution of cosmic rays')\n",
    "ax[0].bar(7200*k, trials_poisson_pmf, width=7200*(k[2]-k[1]))\n",
    "ax[0].set_xlim(0, 100000)\n",
    "ax[0].set_xlabel('Number of counts')\n",
    "ax[0].set_ylabel('Probability')\n",
    "ax[1].set_title('Background probability distribution of cosmic rays on a logarithmic scale')\n",
    "ax[1].bar(7200*k, trials_poisson_pmf, width=7200*(k[2]-k[1]))\n",
    "ax[1].set_xlim(0, 100000)\n",
    "ax[1].set_xlabel('Number of counts')\n",
    "ax[1].set_ylabel('Probability (log)')\n",
    "ax[1].set_yscale('log')"
   ]
  },
  {
   "cell_type": "markdown",
   "metadata": {},
   "source": [
    "The statistical significance is based on the probability that the background will produce data that is 6800 counts or lower, which is described by integrating the Poisson distribution from negative infinity to the desired value."
   ]
  },
  {
   "cell_type": "markdown",
   "metadata": {},
   "source": [
    "$P(k) = 7200\\int_{-\\infty}^{6800}e^{-\\mu}\\frac{\\mu^k}{k!}dk$, where k is the number of counts and $\\mu$ is the expected value, 1."
   ]
  },
  {
   "cell_type": "markdown",
   "metadata": {},
   "source": [
    "In order to find the significance, the probability distibution function is set equal to the probability of a Gaussian with a mean of 0 and a standard deviation of 1:"
   ]
  },
  {
   "cell_type": "markdown",
   "metadata": {},
   "source": [
    "$P(k) = \\frac{1}{2}-\\frac{1}{2}\\mathrm{erf}(\\frac{X\\sigma}{\\sqrt{2}})$"
   ]
  },
  {
   "cell_type": "markdown",
   "metadata": {},
   "source": [
    "Solving for $X\\sigma$ gives the sigma value associated with a measurement of 6800 cosmic rays."
   ]
  },
  {
   "cell_type": "code",
   "execution_count": 14,
   "metadata": {},
   "outputs": [
    {
     "name": "stdout",
     "output_type": "stream",
     "text": [
      "The sigma value of getting 6800 counts over a 7200 time interval is 0.33747496376420233\n"
     ]
    }
   ],
   "source": [
    "#finding the probability of measuring 6800 counts or less\n",
    "prob_5sig = trials_poisson_pmf[np.where(k*7200 <= 6800)].sum() / trials_poisson_pmf.sum()\n",
    "#finding the sigma value of this probability\n",
    "sigma = stats.norm.isf(prob_5sig)\n",
    "\n",
    "print('The sigma value of getting 6800 counts over a 7200 time interval is {}'.format(sigma))"
   ]
  },
  {
   "cell_type": "markdown",
   "metadata": {},
   "source": [
    "Since the 0.337$\\sigma$ < 5$\\sigma$, this is not a statistically significant measurement. Thus it cannot be definitively said that the moon is a sufficient cosmic ray sink."
   ]
  },
  {
   "cell_type": "code",
   "execution_count": null,
   "metadata": {},
   "outputs": [],
   "source": []
  }
 ],
 "metadata": {
  "kernelspec": {
   "display_name": "Python 3",
   "language": "python",
   "name": "python3"
  },
  "language_info": {
   "codemirror_mode": {
    "name": "ipython",
    "version": 3
   },
   "file_extension": ".py",
   "mimetype": "text/x-python",
   "name": "python",
   "nbconvert_exporter": "python",
   "pygments_lexer": "ipython3",
   "version": "3.7.2"
  }
 },
 "nbformat": 4,
 "nbformat_minor": 2
}
