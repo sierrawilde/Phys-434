{
 "cells": [
  {
   "cell_type": "markdown",
   "metadata": {},
   "source": [
    "# Lab 1 "
   ]
  },
  {
   "cell_type": "markdown",
   "metadata": {},
   "source": [
    "Sierra Wilde"
   ]
  },
  {
   "cell_type": "markdown",
   "metadata": {},
   "source": [
    "## A little statistics"
   ]
  },
  {
   "cell_type": "markdown",
   "metadata": {},
   "source": [
    "### 1."
   ]
  },
  {
   "cell_type": "markdown",
   "metadata": {},
   "source": [
    "#### A."
   ]
  },
  {
   "cell_type": "markdown",
   "metadata": {},
   "source": [
    "I looked it up."
   ]
  },
  {
   "cell_type": "markdown",
   "metadata": {},
   "source": [
    "#### B."
   ]
  },
  {
   "cell_type": "code",
   "execution_count": 1,
   "metadata": {},
   "outputs": [],
   "source": [
    "import numpy as np\n",
    "import scipy as sp\n",
    "from scipy import special\n",
    "from scipy import stats\n",
    "import matplotlib.pyplot as plt"
   ]
  },
  {
   "cell_type": "markdown",
   "metadata": {},
   "source": [
    "Loop through standard deviations -3 to 3 to find the probabilities:"
   ]
  },
  {
   "cell_type": "code",
   "execution_count": 13,
   "metadata": {},
   "outputs": [
    {
     "name": "stdout",
     "output_type": "stream",
     "text": [
      "Standard Deviation: -3 Probability: 0.0013498980316300933\n",
      "Standard Deviation: -2 Probability: 0.022750131948179195\n",
      "Standard Deviation: -1 Probability: 0.15865525393145707\n",
      "Standard Deviation: 0 Probability: 0.5\n",
      "Standard Deviation: 1 Probability: 0.8413447460685429\n",
      "Standard Deviation: 2 Probability: 0.9772498680518208\n",
      "Standard Deviation: 3 Probability: 0.9986501019683699\n"
     ]
    }
   ],
   "source": [
    "for i, j in enumerate(range(-3, 4)):\n",
    "    print('Standard Deviation: {} Probability: {}'.format(i-3, stats.norm.cdf(j)))"
   ]
  },
  {
   "cell_type": "markdown",
   "metadata": {},
   "source": [
    "#### C."
   ]
  },
  {
   "cell_type": "markdown",
   "metadata": {},
   "source": [
    "Using the probabilities (with rounding) above to find the standard deviation:"
   ]
  },
  {
   "cell_type": "code",
   "execution_count": 21,
   "metadata": {},
   "outputs": [
    {
     "name": "stdout",
     "output_type": "stream",
     "text": [
      "Probability: 0.0015 Standard Deviation: -2.9677379253417833\n",
      "Probability: 0.02 Standard Deviation: -2.053748910631823\n",
      "Probability: 0.16 Standard Deviation: -0.994457883209753\n",
      "Probability: 0.5 Standard Deviation: 0.0\n",
      "Probability: 0.84 Standard Deviation: 0.994457883209753\n",
      "Probability: 0.97 Standard Deviation: 1.8807936081512509\n",
      "Probability: 0.9985 Standard Deviation: 2.9677379253417944\n"
     ]
    }
   ],
   "source": [
    "prob = [0.0015, 0.02, 0.16, 0.5, 0.84, 0.97, 0.9985]\n",
    "for j in prob:\n",
    "    print('Probability: {} Standard Deviation: {}'.format(j, stats.norm.ppf(j)))"
   ]
  },
  {
   "cell_type": "markdown",
   "metadata": {},
   "source": [
    "#### D."
   ]
  },
  {
   "cell_type": "markdown",
   "metadata": {},
   "source": [
    "Negative $\\sigma$ values indicate where there are datapoints below the mean in the pdf."
   ]
  },
  {
   "cell_type": "markdown",
   "metadata": {},
   "source": [
    "### 2."
   ]
  },
  {
   "cell_type": "markdown",
   "metadata": {},
   "source": [
    "#### A."
   ]
  },
  {
   "cell_type": "markdown",
   "metadata": {},
   "source": [
    "I choose a Lognormal distribution."
   ]
  },
  {
   "cell_type": "markdown",
   "metadata": {},
   "source": [
    "#### B."
   ]
  },
  {
   "cell_type": "markdown",
   "metadata": {},
   "source": [
    "$PDF_{lognormal}(x) = \\frac{1}{x\\sigma \\sqrt{2 \\pi}}e^{\\frac{-(lnx - \\mu )^2}{2 \\sigma ^2}}$"
   ]
  },
  {
   "cell_type": "markdown",
   "metadata": {},
   "source": [
    "Making a plot of a lognormal pdf, with a $\\mu =$0 and a $\\sigma =$1, and plotting it analytically and as a histogram of generated values:"
   ]
  },
  {
   "cell_type": "code",
   "execution_count": 45,
   "metadata": {},
   "outputs": [],
   "source": [
    "x = np.linspace(0, 10, 10000000)\n",
    "mu = 0\n",
    "sigma = 1\n",
    "pdf = stats.lognorm.pdf(x, 1, loc=0, scale=1)"
   ]
  },
  {
   "cell_type": "code",
   "execution_count": 38,
   "metadata": {},
   "outputs": [],
   "source": [
    "d = stats.lognorm.rvs(1, loc=0, scale=1, size=100000)"
   ]
  },
  {
   "cell_type": "code",
   "execution_count": 76,
   "metadata": {},
   "outputs": [
    {
     "data": {
      "image/png": "[encoded data removed]",
      "text/plain": [
       "<Figure size 864x360 with 2 Axes>"
      ]
     },
     "metadata": {
      "needs_background": "light"
     },
     "output_type": "display_data"
    }
   ],
   "source": [
    "fig, ax = plt.subplots(1, 2, figsize=(12, 5))\n",
    "ax[0].set_title('Lognormal distribution')\n",
    "ax[0].hist(d, 500, density=True, label='simulated values')\n",
    "ax[0].plot(x, pdf, linewidth=2, label='true distribution')\n",
    "ax[0].legend()\n",
    "ax[0].set_ylabel('Probability')\n",
    "ax[0].set_xlim(0,10)\n",
    "ax[1].set_title('Lognormal distribution with a logarithmic y-axis')\n",
    "ax[1].hist(d, 500, density=True, label='simulated values')\n",
    "ax[1].plot(x, pdf, linewidth=2, label='true distribution')\n",
    "ax[1].legend()\n",
    "ax[1].set_ylabel('Probability')\n",
    "ax[1].set_xlim(0,10)\n",
    "ax[1].set_yscale('log')\n",
    "plt.show()"
   ]
  },
  {
   "cell_type": "markdown",
   "metadata": {},
   "source": [
    "### 3."
   ]
  },
  {
   "cell_type": "markdown",
   "metadata": {},
   "source": [
    "#### A."
   ]
  },
  {
   "cell_type": "markdown",
   "metadata": {},
   "source": [
    "I choose the value 6."
   ]
  },
  {
   "cell_type": "markdown",
   "metadata": {},
   "source": [
    "#### B."
   ]
  },
  {
   "cell_type": "markdown",
   "metadata": {},
   "source": [
    "How likely is it to get a signal-free value of 6 or greater from a background lognormal distribution with a mean of 0 and a standard deviation of 1?"
   ]
  },
  {
   "cell_type": "markdown",
   "metadata": {},
   "source": [
    "#### C."
   ]
  },
  {
   "cell_type": "markdown",
   "metadata": {},
   "source": [
    "$P = \\int_{6}^{\\infty} \\frac{1}{x\\sigma \\sqrt{2 \\pi}}e^{\\frac{-(lnx - \\mu )^2}{2 \\sigma ^2}}dx$"
   ]
  },
  {
   "cell_type": "markdown",
   "metadata": {},
   "source": [
    "#### D."
   ]
  },
  {
   "cell_type": "code",
   "execution_count": 2,
   "metadata": {},
   "outputs": [
    {
     "name": "stdout",
     "output_type": "stream",
     "text": [
      "The probability of measuring a value of 6 or greater is 0.03658575191704294\n"
     ]
    }
   ],
   "source": [
    "probability = 1-stats.lognorm.cdf(6, 1, loc=0, scale=1)\n",
    "print('The probability of measuring a value of {} or greater is {}'.format(6, probability))"
   ]
  },
  {
   "cell_type": "markdown",
   "metadata": {},
   "source": [
    "$P = \\int_{6}^{\\infty} \\frac{1}{x\\sigma \\sqrt{2 \\pi}}e^{\\frac{-(lnx - \\mu )^2}{2 \\sigma ^2}}dx = erf(\\frac{x}{2})$"
   ]
  },
  {
   "cell_type": "markdown",
   "metadata": {},
   "source": [
    "$x = 2erf^{-1}(1-P)$, where x is the $\\sigma$ value"
   ]
  },
  {
   "cell_type": "code",
   "execution_count": 59,
   "metadata": {},
   "outputs": [
    {
     "name": "stdout",
     "output_type": "stream",
     "text": [
      "The sigma of the value 6 is 1.7917594692280543\n"
     ]
    }
   ],
   "source": [
    "X = stats.norm.ppf(1-probability)\n",
    "print('The sigma of the value 6 is {}'.format(X))"
   ]
  },
  {
   "cell_type": "markdown",
   "metadata": {},
   "source": [
    "### 4."
   ]
  },
  {
   "cell_type": "markdown",
   "metadata": {},
   "source": [
    "Finding the $\\sigma$s for measurements of 2-10:"
   ]
  },
  {
   "cell_type": "code",
   "execution_count": 63,
   "metadata": {},
   "outputs": [
    {
     "name": "stdout",
     "output_type": "stream",
     "text": [
      "The sigma of the value 1 is 0.0\n",
      "The sigma of the value 2 is 0.6931471805599453\n",
      "The sigma of the value 3 is 1.0986122886681096\n",
      "The sigma of the value 4 is 1.386294361119891\n",
      "The sigma of the value 5 is 1.6094379124340996\n",
      "The sigma of the value 6 is 1.7917594692280543\n",
      "The sigma of the value 7 is 1.945910149055314\n",
      "The sigma of the value 8 is 2.0794415416798357\n",
      "The sigma of the value 9 is 2.1972245773362196\n",
      "The sigma of the value 10 is 2.302585092994044\n"
     ]
    }
   ],
   "source": [
    "for i in range(1, 11):\n",
    "    #print('The probability of measuring a value of  or greater is {}'.format(1-stats.lognorm.cdf(i, 1, loc=0, scale=1)))\n",
    "    print('The sigma of the value {} is {}'.format(i, stats.norm.ppf(stats.lognorm.cdf(i, 1, loc=0, scale=1))))"
   ]
  },
  {
   "cell_type": "markdown",
   "metadata": {},
   "source": [
    "As the measured value increases, it seems that the corresponding $\\sigma$ starts to level off. It is not increasing as fast as it was closer to the mean. This makes sense because the pdf drops off very quickly, and the log plot looks more uniform as the values become greater. This means that the area under the graph past that point, or the probability of getting that value or higher, does not decrease much as the value in question increases."
   ]
  },
  {
   "cell_type": "markdown",
   "metadata": {},
   "source": [
    "## Non-continuous distributions"
   ]
  },
  {
   "cell_type": "markdown",
   "metadata": {},
   "source": [
    "### 1."
   ]
  },
  {
   "cell_type": "markdown",
   "metadata": {},
   "source": [
    "#### A."
   ]
  },
  {
   "cell_type": "markdown",
   "metadata": {},
   "source": [
    "I am doing the Poisson distribution."
   ]
  },
  {
   "cell_type": "markdown",
   "metadata": {},
   "source": [
    "#### B."
   ]
  },
  {
   "cell_type": "markdown",
   "metadata": {},
   "source": [
    "$PDF_{poisson} = e^{-\\mu}\\frac{\\mu^k}{k!}$, where k is the number of occurences and $\\mu$ is the mean"
   ]
  },
  {
   "cell_type": "code",
   "execution_count": 84,
   "metadata": {},
   "outputs": [
    {
     "data": {
      "image/png": "[encoded data removed]",
      "text/plain": [
       "<Figure size 864x1440 with 8 Axes>"
      ]
     },
     "metadata": {
      "needs_background": "light"
     },
     "output_type": "display_data"
    }
   ],
   "source": [
    "k = np.arange(0, 11)\n",
    "fig, axes = plt.subplots(4, 2, figsize=(12, 20))\n",
    "for ax, mean in zip(axes.flat, [0.5, 0.5, 1, 1, 4, 4, 8, 8]):\n",
    "    ax.bar(k, stats.poisson.pmf(k, mean), width = 1, label = 'mean= {}'.format(mean))\n",
    "    ax.set_xlabel('Number of counts')\n",
    "    ax.set_ylabel('Probability')\n",
    "    ax.legend()\n",
    "axes[0][0].set_title('Poisson distribution')\n",
    "axes[0][1].set_title('Poisson distribution with a logarithmic y-axis')\n",
    "axes[0][1].set_yscale('log')\n",
    "axes[1][1].set_yscale('log')\n",
    "axes[2][1].set_yscale('log')\n",
    "axes[3][1].set_yscale('log')\n",
    "plt.show()"
   ]
  },
  {
   "cell_type": "markdown",
   "metadata": {},
   "source": [
    "As the mean approaches the midpoint of the number of counts, the distribution starts to resemble a more Gaussian distribution. If the expected value is at the lower end, there is less of a chance that the number of counts will be at the higher end than if the mean was in the center, and vice versa."
   ]
  },
  {
   "cell_type": "markdown",
   "metadata": {},
   "source": [
    "#### C."
   ]
  },
  {
   "cell_type": "markdown",
   "metadata": {},
   "source": [
    "What is the probability that a Poisson distribution with an expected count rate of 1.5 will have a number that is 4 or greater?"
   ]
  },
  {
   "cell_type": "markdown",
   "metadata": {},
   "source": [
    "$x = erf^{-1}(1-\\int_{4}^{\\infty} e^{-\\mu}\\frac{\\mu^k}{k!}dk)$, where x again is the $\\sigma$ corresponding to the measurement"
   ]
  },
  {
   "cell_type": "code",
   "execution_count": 87,
   "metadata": {},
   "outputs": [
    {
     "name": "stdout",
     "output_type": "stream",
     "text": [
      "The probability of having 4 counts is 0.01857593622214071\n"
     ]
    }
   ],
   "source": [
    "print('The probability of having 4 counts is {}'.format(1-stats.poisson.cdf(4, 1.5)))"
   ]
  },
  {
   "cell_type": "code",
   "execution_count": 88,
   "metadata": {},
   "outputs": [
    {
     "name": "stdout",
     "output_type": "stream",
     "text": [
      "The sigma value associated with having 4 counts is 2.084091199155898\n"
     ]
    }
   ],
   "source": [
    "print('The sigma value associated with having 4 counts is {}'.format(stats.norm.ppf(stats.poisson.cdf(4, 1.5))))"
   ]
  },
  {
   "cell_type": "markdown",
   "metadata": {},
   "source": [
    "#### D."
   ]
  },
  {
   "cell_type": "markdown",
   "metadata": {},
   "source": [
    "Because there are discrete probabilities and $\\sigma$ values, it might be harder to get a significant result. For instance, two consecutive values could have $\\sigma$ values of 4.5 and 6.5. In order to get that 5$\\sigma$ significance, the result has to be at that higher value, which will be less likely than with a discrete distribution."
   ]
  },
  {
   "cell_type": "markdown",
   "metadata": {},
   "source": [
    "#### E."
   ]
  },
  {
   "cell_type": "markdown",
   "metadata": {},
   "source": [
    "The mean does not have to be discrete because discrete values multiplied by their probabilities divided by their sum become continuous because their weights can be all continous as well. At a certain mean, the probabilites for each discrete value are discrete as well, but those parameters are able to change continuously together. This is how the $\\sigma$ values work as well. The only parameters that have to be discrete no matter what are the count values."
   ]
  },
  {
   "cell_type": "code",
   "execution_count": null,
   "metadata": {},
   "outputs": [],
   "source": []
  }
 ],
 "metadata": {
  "kernelspec": {
   "display_name": "Python 3",
   "language": "python",
   "name": "python3"
  },
  "language_info": {
   "codemirror_mode": {
    "name": "ipython",
    "version": 3
   },
   "file_extension": ".py",
   "mimetype": "text/x-python",
   "name": "python",
   "nbconvert_exporter": "python",
   "pygments_lexer": "ipython3",
   "version": "3.7.2"
  }
 },
 "nbformat": 4,
 "nbformat_minor": 2
}
